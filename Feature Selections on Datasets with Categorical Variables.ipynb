{
 "cells": [
  {
   "cell_type": "markdown",
   "metadata": {},
   "source": [
    "# Feature Selection on Datasets Containing Categorical Variables\n",
    "\n",
    "Oftentimes we find ourselve with a dataset whose predictors are not numerical. We would like to know, in the case of supervised learning, how many of these categrocial variables affect the target class. \n",
    "\n",
    "One way to determine a dependence or a lack thereof is to use $\\chi^2$ test. This is a test for categorical variables.\n",
    "\n",
    "It is important to know that for us to trust results of a $\\chi^2$ test, we need the following to be true:\n",
    "\n",
    "* The contingency table consisting the counts for the relationship between a variable and the target class must be frequency, not in percentage.\n",
    "\n",
    "* The levels (categories) of the variables being tested are mutually exclusive.\n",
    "\n",
    "* The value of expected cells on the contingency table should be greater than 5.\n",
    "\n",
    "If the $p$ value of the $\\chi^2$ test is less than 0.05, a typical threshold, we say the target variable and the predictor are independent. \n",
    "\n",
    "## Default Dataset\n",
    "\n",
    "In previous notebook, we built logistic classifiers on different balanced training sets and sought the best performing classifier. In addition, we plotted figures to convince ourselves that **student** status is not a important predictor of default. Here, we will do a quick $\\chi^2$ test to see if *default* correlates with being a **student**. \n",
    "\n",
    "First, we will load the Default dataset from *ISLR* R pacakge and create a contingency table between **default** and **student**. Then we do a $\\chi^2$ test."
   ]
  },
  {
   "cell_type": "code",
   "execution_count": 1,
   "metadata": {},
   "outputs": [],
   "source": [
    "library(ISLR)\n",
    "attach(Default)\n",
    "\n",
    "# Create a contingency table for default and student\n",
    "default_tab = table(default,student)\n"
   ]
  },
  {
   "cell_type": "code",
   "execution_count": 2,
   "metadata": {},
   "outputs": [],
   "source": [
    "chi2 = chisq.test(default_tab)"
   ]
  },
  {
   "cell_type": "code",
   "execution_count": 3,
   "metadata": {},
   "outputs": [
    {
     "data": {
      "text/html": [
       "0.000499725675621048"
      ],
      "text/latex": [
       "0.000499725675621048"
      ],
      "text/markdown": [
       "0.000499725675621048"
      ],
      "text/plain": [
       "[1] 0.0004997257"
      ]
     },
     "metadata": {},
     "output_type": "display_data"
    }
   ],
   "source": [
    "chi2$p.value"
   ]
  },
  {
   "cell_type": "markdown",
   "metadata": {},
   "source": [
    "Since the $p$ values is less than 0.05, we conclude that **student** and **default** are independent from each other. Therefore, we may exclude **student** when building a classifier. \n"
   ]
  },
  {
   "cell_type": "code",
   "execution_count": 4,
   "metadata": {},
   "outputs": [
    {
     "data": {
      "text/html": [
       "<table>\n",
       "<thead><tr><th></th><th scope=col>No</th><th scope=col>Yes</th></tr></thead>\n",
       "<tbody>\n",
       "\t<tr><th scope=row>No</th><td>6821.0352</td><td>2845.9648</td></tr>\n",
       "\t<tr><th scope=row>Yes</th><td> 234.9648</td><td>  98.0352</td></tr>\n",
       "</tbody>\n",
       "</table>\n"
      ],
      "text/latex": [
       "\\begin{tabular}{r|ll}\n",
       "  & No & Yes\\\\\n",
       "\\hline\n",
       "\tNo & 6821.0352 & 2845.9648\\\\\n",
       "\tYes &  234.9648 &   98.0352\\\\\n",
       "\\end{tabular}\n"
      ],
      "text/markdown": [
       "\n",
       "| <!--/--> | No | Yes | \n",
       "|---|---|\n",
       "| No | 6821.0352 | 2845.9648 | \n",
       "| Yes |  234.9648 |   98.0352 | \n",
       "\n",
       "\n"
      ],
      "text/plain": [
       "       student\n",
       "default No        Yes      \n",
       "    No  6821.0352 2845.9648\n",
       "    Yes  234.9648   98.0352"
      ]
     },
     "metadata": {},
     "output_type": "display_data"
    }
   ],
   "source": [
    "chi2$expected"
   ]
  },
  {
   "cell_type": "markdown",
   "metadata": {},
   "source": [
    "We also observed that all the expected values in the contingency table are greater than 5, so we can be confident about the  $\\chi^2$ test results."
   ]
  },
  {
   "cell_type": "markdown",
   "metadata": {},
   "source": [
    "## What is next?\n",
    "\n",
    "We saw how simple $\\chi^2$ test can be applied to a dataset with categorical variables. It effectively achieves dimenension reduction. One interesting question is, **\"For a dataset with many categeorical variables, how effective is $\\chi^2$ test in allowing us to build a simple model?**"
   ]
  },
  {
   "cell_type": "code",
   "execution_count": null,
   "metadata": {},
   "outputs": [],
   "source": []
  }
 ],
 "metadata": {
  "kernelspec": {
   "display_name": "R",
   "language": "R",
   "name": "ir"
  },
  "language_info": {
   "codemirror_mode": "r",
   "file_extension": ".r",
   "mimetype": "text/x-r-source",
   "name": "R",
   "pygments_lexer": "r",
   "version": "3.4.4"
  }
 },
 "nbformat": 4,
 "nbformat_minor": 2
}
